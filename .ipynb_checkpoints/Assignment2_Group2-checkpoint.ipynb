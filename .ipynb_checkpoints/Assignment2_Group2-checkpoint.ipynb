{
 "cells": [
  {
   "cell_type": "markdown",
   "metadata": {},
   "source": [
    "## Members of Group B\n",
    "- Dominik Gulacsy\n",
    "- Anthony Njeru\n",
    "- Ruiqing Zhu"
   ]
  },
  {
   "cell_type": "markdown",
   "metadata": {},
   "source": [
    "## Assignment 2\n",
    "\n",
    "The files in the folders 105‐extracted‐date and 106‐extracted‐date contain all speeches by U.S. senators in the 105th and 106th Congress (1997‐2000). The name of each file shows the congress‐name‐state abbreviation. For example, the file \"105‐akaka‐hi.txt\" contains all speeches by Senator Akaka from Hawaii in the 105th Congress (1997‐1998).\n",
    "\n",
    "The task is to count the frequency of words used by each senator in each Congress. For\n",
    "example, the number of times in the 105th Congress that senator Akaka mentioned the\n",
    "word \"gun\".\n",
    "\n",
    "1. Write a program that loops over directories and all files in the directories and prints the\n",
    "full file name.\n",
    "\n",
    "2. In the loop, read the speech files and split the text based on blanks (space) into words\n",
    "that are put in a list.\n",
    "\n",
    "3. Loop over words in the list and remove non‐alphanumeric characters, replace upper by\n",
    "lower case letters. \n",
    "\n",
    "4. Use the document droplist.txt  and check if the words in this list are also included in the stopword list provided by the NLTK library (you can find this in the inputs folder stopwords.txt). Join both lists in a list called stopwords_final and drop these words from each list in 3.\n",
    "\n",
    "5. Count the frequency of each remaining word and save the result in a comma‐separated file in \"long\" format where the first row contains the variable names: \"file\", \"word\", \"frequency\" and the following rows contain the corresponding values and save the file in the Output folder.\n"
   ]
  },
  {
   "cell_type": "markdown",
   "metadata": {},
   "source": [
    "## Import packages"
   ]
  },
  {
   "cell_type": "code",
   "execution_count": 6,
   "metadata": {},
   "outputs": [],
   "source": [
    "import pandas\n",
    "import os"
   ]
  },
  {
   "cell_type": "markdown",
   "metadata": {},
   "source": [
    "## Task 1"
   ]
  },
  {
   "cell_type": "code",
   "execution_count": 12,
   "metadata": {},
   "outputs": [
    {
     "data": {
      "text/plain": [
       "['.git',\n",
       " '.ipynb_checkpoints',\n",
       " 'Assignment_2',\n",
       " 'dominik-gulacsy-q2.ipynb',\n",
       " 'dominik-gulacsy-q3.ipynb',\n",
       " 'dominik-gulacsy.ipynb',\n",
       " 'halal.ipynb',\n",
       " 'Quiz3.ipynb',\n",
       " 'test.txt',\n",
       " '__pycache__']"
      ]
     },
     "execution_count": 12,
     "metadata": {},
     "output_type": "execute_result"
    }
   ],
   "source": [
    "# loop over directories\n",
    "os.listdir('../')\n",
    "#for directory "
   ]
  }
 ],
 "metadata": {
  "kernelspec": {
   "display_name": "Python 3",
   "language": "python",
   "name": "python3"
  },
  "language_info": {
   "codemirror_mode": {
    "name": "ipython",
    "version": 3
   },
   "file_extension": ".py",
   "mimetype": "text/x-python",
   "name": "python",
   "nbconvert_exporter": "python",
   "pygments_lexer": "ipython3",
   "version": "3.8.3"
  }
 },
 "nbformat": 4,
 "nbformat_minor": 4
}
